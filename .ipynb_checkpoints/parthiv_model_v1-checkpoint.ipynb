{
 "cells": [
  {
   "cell_type": "code",
   "execution_count": 6,
   "id": "983cc342-bfed-4d88-a0fa-0242354bf234",
   "metadata": {},
   "outputs": [],
   "source": [
    "import pandas as pd\n",
    "\n",
    "# Load the dataset\n",
    "data = pd.read_csv('wdbc.data', header=None)\n",
    "\n",
    "# Define column names\n",
    "column_names = [\n",
    "    'ID', 'Diagnosis', 'radius_mean', 'texture_mean', 'perimeter_mean', 'area_mean',\n",
    "    'smoothness_mean', 'compactness_mean', 'concavity_mean', 'concave points_mean', \n",
    "    'symmetry_mean', 'fractal_dimension_mean', 'radius_se', 'texture_se', 'perimeter_se',\n",
    "    'area_se', 'smoothness_se', 'compactness_se', 'concavity_se', 'concave points_se',\n",
    "    'symmetry_se', 'fractal_dimension_se', 'radius_worst', 'texture_worst', 'perimeter_worst',\n",
    "    'area_worst', 'smoothness_worst', 'compactness_worst', 'concavity_worst', 'concave points_worst',\n",
    "    'symmetry_worst', 'fractal_dimension_worst'\n",
    "]\n",
    "\n",
    "data.columns = column_names\n",
    "\n",
    "# Drop the ID column as it is not needed\n",
    "data = data.drop(['ID'], axis=1)\n",
    "\n",
    "# Encode the diagnosis column\n",
    "data['Diagnosis'] = data['Diagnosis'].map({'M': 1, 'B': 0})\n"
   ]
  },
  {
   "cell_type": "code",
   "execution_count": null,
   "id": "abf8bf13-9802-4a31-83ce-25606c6df7b5",
   "metadata": {},
   "outputs": [],
   "source": []
  }
 ],
 "metadata": {
  "kernelspec": {
   "display_name": "Python 3 (ipykernel)",
   "language": "python",
   "name": "python3"
  },
  "language_info": {
   "codemirror_mode": {
    "name": "ipython",
    "version": 3
   },
   "file_extension": ".py",
   "mimetype": "text/x-python",
   "name": "python",
   "nbconvert_exporter": "python",
   "pygments_lexer": "ipython3",
   "version": "3.11.5"
  }
 },
 "nbformat": 4,
 "nbformat_minor": 5
}
